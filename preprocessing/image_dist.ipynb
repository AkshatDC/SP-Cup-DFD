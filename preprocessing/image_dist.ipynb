{
  "nbformat": 4,
  "nbformat_minor": 0,
  "metadata": {
    "colab": {
      "provenance": []
    },
    "kernelspec": {
      "name": "python3",
      "display_name": "Python 3"
    },
    "language_info": {
      "name": "python"
    }
  },
  "cells": [
    {
      "cell_type": "code",
      "execution_count": null,
      "metadata": {
        "colab": {
          "base_uri": "https://localhost:8080/"
        },
        "id": "odImgDo7PJf5",
        "outputId": "48b215ed-a0dd-453b-a17e-38ef5603460d"
      },
      "outputs": [
        {
          "output_type": "stream",
          "name": "stdout",
          "text": [
            "Drive already mounted at /content/drive; to attempt to forcibly remount, call drive.mount(\"/content/drive\", force_remount=True).\n"
          ]
        }
      ],
      "source": [
        "from google.colab import drive\n",
        "import os\n",
        "\n",
        "# Step 1: Mount Google Drive\n",
        "drive.mount('/content/drive')\n"
      ]
    },
    {
      "cell_type": "code",
      "source": [
        "import os\n",
        "import shutil\n",
        "\n",
        "# Define the path to the source folder and the destination base folder\n",
        "source_folder = \"drive/MyDrive/fake/\"\n",
        "destination_base = \"drive/MyDrive/fake/\"\n",
        "\n",
        "# Create a list of all images in the source folder\n",
        "images = sorted([img for img in os.listdir(source_folder) if img.endswith(\".png\")])\n",
        "\n",
        "# Number of images per folder\n",
        "images_per_folder = 7000\n",
        "\n",
        "# Create 17 folders and distribute images\n",
        "for i in range(1, 22):  # real-2 to real-18\n",
        "    folder_name = f\"fake-{i}\"\n",
        "    folder_path = os.path.join(destination_base, folder_name)\n",
        "\n",
        "    # Create the folder if it doesn't exist\n",
        "    os.makedirs(folder_path, exist_ok=True)\n",
        "\n",
        "    # Get the images for this folder\n",
        "    start_index = (i - 2) * images_per_folder\n",
        "    end_index = start_index + images_per_folder\n",
        "    images_to_move = images[start_index:end_index]\n",
        "\n",
        "    # Move the images to the new folder\n",
        "    for img in images_to_move:\n",
        "        shutil.move(os.path.join(source_folder, img), os.path.join(folder_path, img))\n",
        "\n",
        "print(\"Images successfully distributed into folders.\")\n"
      ],
      "metadata": {
        "colab": {
          "base_uri": "https://localhost:8080/"
        },
        "id": "9iF6j8xxQw_D",
        "outputId": "b196fa8b-f388-4fe3-8b71-8f30629356de"
      },
      "execution_count": null,
      "outputs": [
        {
          "output_type": "stream",
          "name": "stdout",
          "text": [
            "Images successfully distributed into folders.\n"
          ]
        }
      ]
    }
  ]
}